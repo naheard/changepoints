{
 "cells": [
  {
   "cell_type": "code",
   "execution_count": 7,
   "metadata": {},
   "outputs": [],
   "source": [
    "#Some imports:\n",
    "#%pip install numpy\n",
    "#%pip install scipy\n",
    "import sys\n",
    "import numpy as np\n",
    "from collections import defaultdict\n",
    "\n",
    "from data import Data\n",
    "from probability_model import ProbabilityModel\n",
    "from poisson_gamma import PoissonGamma\n",
    "from regime_model import RegimeModel\n",
    "from multinomial_dirichlet import MultinomialDirichlet\n",
    "from normal_normal_inverse_gamma import NormalNIG\n",
    "from simulate_changepoint_data import *"
   ]
  },
  {
   "cell_type": "code",
   "execution_count": 10,
   "metadata": {},
   "outputs": [],
   "source": [
    "n=200\n",
    "probability_models=[]\n",
    "probability_models.append(MultinomialDirichlet(k=np.array([3,5],dtype=int),alpha=1))\n",
    "probability_models.append(NormalNIG(p=3,alpha_beta=[.1,.1],v=1))\n",
    "simulate(n,probability_models,seed=0)"
   ]
  },
  {
   "cell_type": "code",
   "execution_count": null,
   "metadata": {},
   "outputs": [],
   "source": []
  }
 ],
 "metadata": {
  "kernelspec": {
   "display_name": "Python 3",
   "language": "python",
   "name": "python3"
  },
  "language_info": {
   "codemirror_mode": {
    "name": "ipython",
    "version": 3
   },
   "file_extension": ".py",
   "mimetype": "text/x-python",
   "name": "python",
   "nbconvert_exporter": "python",
   "pygments_lexer": "ipython3",
   "version": "3.7.7"
  }
 },
 "nbformat": 4,
 "nbformat_minor": 4
}
